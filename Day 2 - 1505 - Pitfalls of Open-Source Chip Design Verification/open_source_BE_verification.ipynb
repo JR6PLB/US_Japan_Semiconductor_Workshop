{
  "nbformat": 4,
  "nbformat_minor": 0,
  "metadata": {
    "colab": {
      "provenance": [],
      "authorship_tag": "ABX9TyNBy9hWyrzbiAYRDONdRY2F",
      "include_colab_link": true
    },
    "kernelspec": {
      "name": "python3",
      "display_name": "Python 3"
    },
    "language_info": {
      "name": "python"
    }
  },
  "cells": [
    {
      "cell_type": "markdown",
      "metadata": {
        "id": "view-in-github",
        "colab_type": "text"
      },
      "source": [
        "<a href=\"https://colab.research.google.com/github/d-m-bailey/US_Japan_Semiconductor_Workshop/blob/main/open_source_BE_verification.ipynb\" target=\"_parent\"><img src=\"https://colab.research.google.com/assets/colab-badge.svg\" alt=\"Open In Colab\"/></a>"
      ]
    },
    {
      "cell_type": "markdown",
      "source": [
        "# Pitfalls of Open-Source Chip Design Verification<br>オープンソース設計検証での注意点\n",
        "US-Japan Semiconductor Workshop, May 15th, 2024<br>最先端集積回路設計に関する日米連携ワークショップ 2024年5月15日\n",
        "\n",
        "D. Mitch Bailey　ShuhariSystem<br>ベイリー・デビッド　シュハリシステム"
      ],
      "metadata": {
        "id": "KXrjYC7jYI-4"
      }
    },
    {
      "cell_type": "markdown",
      "source": [
        "# Overview  概要\n",
        "Open source EDA software and systems such as OpenROAD, yosys, magic, xschem, klayout, iverilog, hgspice, etc., have made it possible for anyone to design and layout a mixed-signal chip. While the final step of verifying that the design matches the layout is possible with open source tools, there are pitfalls that you should be aware of. This workshop will provide hands-on experience with back-end verification using actual designs that were taped out on the Google funded open-MPW shuttles.\n",
        "\n",
        "OpenROAD, yosys, magic, xschem, klayout, iverilog, hgspice などのオープンソースソフトウェアやシステムのお陰で、誰でもがアナログやディジタルのチップを設計して、レイアウトすることができます。最終的のデザインとレイアウトの一致を確認するステップもオープンソースのツールでできますが要注意点があります。このワークショップでは実際にGoogleのOpen-MPWで出されたチップのデータを各自で検証できます。"
      ],
      "metadata": {
        "id": "xPG5P8WSg42s"
      }
    }
  ]
}
