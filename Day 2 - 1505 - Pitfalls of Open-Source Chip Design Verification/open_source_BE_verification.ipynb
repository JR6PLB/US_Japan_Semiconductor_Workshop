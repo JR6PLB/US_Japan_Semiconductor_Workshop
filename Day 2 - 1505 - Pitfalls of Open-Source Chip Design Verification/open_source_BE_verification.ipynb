{
  "nbformat": 4,
  "nbformat_minor": 0,
  "metadata": {
    "colab": {
      "provenance": [],
      "authorship_tag": "ABX9TyNBy9hWyrzbiAYRDONdRY2F",
      "include_colab_link": true
    },
    "kernelspec": {
      "name": "python3",
      "display_name": "Python 3"
    },
    "language_info": {
      "name": "python"
    }
  },
  "cells": [
    {
      "cell_type": "markdown",
      "metadata": {
        "id": "view-in-github",
        "colab_type": "text"
      },
      "source": [
        "<a href=\"https://colab.research.google.com/github/d-m-bailey/US_Japan_Semiconductor_Workshop/blob/main/Day%202%20-%201505%20-%20Pitfalls%20of%20Open-Source%20Chip%20Design%20Verification/open_source_BE_verification.ipynb\" target=\"_parent\"><img src=\"https://colab.research.google.com/assets/colab-badge.svg\" alt=\"Open In Colab\"/></a>"
      ]
    },
    {
      "cell_type": "markdown",
      "source": [
        "# Pitfalls of Open-Source Chip Design Verification<br>オープンソース設計検証での注意点\n",
        "US-Japan Semiconductor Workshop, May 15th, 2024<br>最先端集積回路設計に関する日米連携ワークショップ 2024年5月15日\n",
        "\n",
        "D. Mitch Bailey　ShuhariSystem<br>ベイリー・デビッド　シュハリシステム"
      ],
      "metadata": {
        "id": "KXrjYC7jYI-4"
      }
    },
    {
      "cell_type": "markdown",
      "source": [
        "# Overview  概要\n",
        "Open source EDA software and systems such as OpenROAD, yosys, magic, xschem, klayout, iverilog, hgspice, etc., have made it possible for anyone to design and layout a mixed-signal chip. While the final step of verifying that the design matches the layout is possible with open source tools, there are pitfalls that you should be aware of. This workshop will provide hands-on experience with back-end verification using actual designs that were taped out on the Google funded open-MPW shuttles.\n",
        "\n",
        "OpenROAD, yosys, magic, xschem, klayout, iverilog, hgspice などのオープンソースソフトウェアやシステムのお陰で、誰でもがアナログやディジタルのチップを設計して、レイアウトすることができます。最終的のデザインとレイアウトの一致を確認するステップもオープンソースのツールでできますが要注意点があります。このワークショップでは実際にGoogleのOpen-MPWで出されたチップのデータを各自で検証できます。"
      ],
      "metadata": {
        "id": "xPG5P8WSg42s"
      }
    },
    {
      "cell_type": "code",
      "source": [
        "import pandas as pd\n",
        "import os\n",
        "\n",
        "CONDA_PREFIX = os.environ.get('CONDA_PREFIX', None)\n",
        "if not CONDA_PREFIX:\n",
        "  import condacolab\n",
        "  CONDA_PREFIX = condacolab.PREFIX"
      ],
      "metadata": {
        "id": "5dHhq5m6wTI2"
      },
      "execution_count": 37,
      "outputs": []
    },
    {
      "cell_type": "code",
      "source": [
        "%%writefile environment.yml\n",
        "channels:\n",
        "  - litex-hub\n",
        "dependencies:\n",
        "  - open_pdks.sky130a\n",
        "  - magic",
        "  - netgen"
      ],
      "metadata": {
        "colab": {
          "base_uri": "https://localhost:8080/"
        },
        "id": "XhLeFkF_H9pm",
        "outputId": "f8c8ba9f-c46f-4695-f64e-fbdd1ba4a17b"
      },
      "execution_count": 38,
      "outputs": [
        {
          "output_type": "stream",
          "name": "stdout",
          "text": [
            "Overwriting environment.yml\n"
          ]
        }
      ]
    },
  ]
}
